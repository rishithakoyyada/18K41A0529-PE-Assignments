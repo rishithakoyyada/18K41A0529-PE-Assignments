{
  "nbformat": 4,
  "nbformat_minor": 0,
  "metadata": {
    "colab": {
      "name": "Untitled",
      "provenance": []
    },
    "kernelspec": {
      "name": "python3",
      "display_name": "Python 3"
    }
  },
  "cells": [
    {
      "cell_type": "code",
      "metadata": {
        "id": "mmcaOg6FPThI",
        "colab_type": "code",
        "colab": {
          "base_uri": "https://localhost:8080/",
          "height": 71
        },
        "outputId": "6ab828be-07b8-444a-c947-ce5e8665d4c9"
      },
      "source": [
        "year=int(input(\"enter the year for zodiacsign\"))\n",
        "if year%12==0:\n",
        "    print(\"Monkey\")\n",
        "elif year%12==1:\n",
        "    print(\"Rooster\")\n",
        "elif year%12==2:\n",
        "    print(\"Dog\")\n",
        "elif year%12==3:\n",
        "    print(\"pig\")\n",
        "elif year%12==4:\n",
        "    print(\"Rat\")\n",
        "elif year%12==5:\n",
        "    print(\"ox\")\n",
        "elif year%12==6:\n",
        "    print(\"Tiger\")\n",
        "elif year%12==7:\n",
        "    print(\"Rabbit\")\n",
        "elif year%12==8:\n",
        "    print(\"Dragon\")\n",
        "elif year%12==9:\n",
        "    print(\"Snake\")\n",
        "elif year%12==10:\n",
        "    print(\"Horse\")\n",
        "else:\n",
        "    print(\"Sheep\")\n"
      ],
      "execution_count": 2,
      "outputs": [
        {
          "output_type": "stream",
          "text": [
            "enter the year for zodiacsign2000\n",
            "Dragon\n"
          ],
          "name": "stdout"
        }
      ]
    },
    {
      "cell_type": "code",
      "metadata": {
        "id": "jpl-JN9OQsNn",
        "colab_type": "code",
        "colab": {
          "base_uri": "https://localhost:8080/",
          "height": 68
        },
        "outputId": "33e1a011-15b3-4048-dbd5-acee8dd394f3"
      },
      "source": [
        "dist=int(input('enter distance:'))\n",
        "wt=int(input('enter weight:'))\n",
        "if dist>=500:\n",
        "    if wt>=100:\n",
        "        cost=5*dist\n",
        "    elif wt>=10 and wt<100:\n",
        "            cost=6*dist\n",
        "    else:\n",
        "        cost=7*dist\n",
        "else:\n",
        "    if wt>=100:\n",
        "        cost=8*dist\n",
        "    else:\n",
        "        cost=5*dist\n",
        "        print('charge of cost:',cost)  "
      ],
      "execution_count": 3,
      "outputs": [
        {
          "output_type": "stream",
          "text": [
            "enter distance:56\n",
            "enter weight:34\n",
            "charge of cost: 280\n"
          ],
          "name": "stdout"
        }
      ]
    },
    {
      "cell_type": "code",
      "metadata": {
        "id": "zmBWCVzYRY-C",
        "colab_type": "code",
        "colab": {
          "base_uri": "https://localhost:8080/",
          "height": 85
        },
        "outputId": "28797adc-f89a-4b1e-fe1f-b28f8b173d32"
      },
      "source": [
        "s=625\n",
        "c=750\n",
        "up=850\n",
        "b=100\n",
        "x=int(input('type of seat:'))\n",
        "print('do you pay through cash or card')\n",
        "y=str(input('payment mode:'))\n",
        "while y=='card':\n",
        "    z=x*5/100\n",
        "    cost=x-z\n",
        "    print('cost of ticket:',cost)\n",
        "else:    \n",
        "    if y=='cash':\n",
        "        w=x*10/100\n",
        "        cost=x-w\n",
        "        print('cost of ticket:',cost)"
      ],
      "execution_count": 4,
      "outputs": [
        {
          "output_type": "stream",
          "text": [
            "type of seat:34\n",
            "do you pay through cash or card\n",
            "payment mode:cash\n",
            "cost of ticket: 30.6\n"
          ],
          "name": "stdout"
        }
      ]
    },
    {
      "cell_type": "code",
      "metadata": {
        "id": "kbAyYg8RRyge",
        "colab_type": "code",
        "colab": {
          "base_uri": "https://localhost:8080/",
          "height": 105
        },
        "outputId": "4105f158-f964-4d40-8c98-38ac79281d78"
      },
      "source": [
        "I=int(input('initial temperature:'))\n",
        "f=int(input('final temperature:'))\n",
        "m=int(input('water in kg:'))\n",
        "q=m*(f-I)*4184\n",
        "print(q)"
      ],
      "execution_count": 5,
      "outputs": [
        {
          "output_type": "stream",
          "text": [
            "initial temperature:89\n",
            "final temperature:123\n",
            "water in kg:3\n",
            "426768\n"
          ],
          "name": "stdout"
        }
      ]
    },
    {
      "cell_type": "code",
      "metadata": {
        "id": "fqpeqK1ySIsk",
        "colab_type": "code",
        "colab": {
          "base_uri": "https://localhost:8080/",
          "height": 248
        },
        "outputId": "1c1f396f-3589-4a1e-9ea6-bc90bd033c60"
      },
      "source": [
        "user=str(input('enter month'))\n",
        "if user==december or january or febraury:\n",
        "    print('winter')\n",
        "elif user==march or april or may:\n",
        "    print('spring')\n",
        "elif user==june or july or aug:\n",
        "    print('summer')\n",
        "else:\n",
        "    print('autum')"
      ],
      "execution_count": 6,
      "outputs": [
        {
          "output_type": "stream",
          "text": [
            "enter monthjanuary\n"
          ],
          "name": "stdout"
        },
        {
          "output_type": "error",
          "ename": "NameError",
          "evalue": "ignored",
          "traceback": [
            "\u001b[0;31m---------------------------------------------------------------------------\u001b[0m",
            "\u001b[0;31mNameError\u001b[0m                                 Traceback (most recent call last)",
            "\u001b[0;32m<ipython-input-6-d1bc33729f14>\u001b[0m in \u001b[0;36m<module>\u001b[0;34m()\u001b[0m\n\u001b[1;32m      1\u001b[0m \u001b[0muser\u001b[0m\u001b[0;34m=\u001b[0m\u001b[0mstr\u001b[0m\u001b[0;34m(\u001b[0m\u001b[0minput\u001b[0m\u001b[0;34m(\u001b[0m\u001b[0;34m'enter month'\u001b[0m\u001b[0;34m)\u001b[0m\u001b[0;34m)\u001b[0m\u001b[0;34m\u001b[0m\u001b[0;34m\u001b[0m\u001b[0m\n\u001b[0;32m----> 2\u001b[0;31m \u001b[0;32mif\u001b[0m \u001b[0muser\u001b[0m\u001b[0;34m==\u001b[0m\u001b[0mdecember\u001b[0m \u001b[0;32mor\u001b[0m \u001b[0mjanuary\u001b[0m \u001b[0;32mor\u001b[0m \u001b[0mfebraury\u001b[0m\u001b[0;34m:\u001b[0m\u001b[0;34m\u001b[0m\u001b[0;34m\u001b[0m\u001b[0m\n\u001b[0m\u001b[1;32m      3\u001b[0m     \u001b[0mprint\u001b[0m\u001b[0;34m(\u001b[0m\u001b[0;34m'winter'\u001b[0m\u001b[0;34m)\u001b[0m\u001b[0;34m\u001b[0m\u001b[0;34m\u001b[0m\u001b[0m\n\u001b[1;32m      4\u001b[0m \u001b[0;32melif\u001b[0m \u001b[0muser\u001b[0m\u001b[0;34m==\u001b[0m\u001b[0mmarch\u001b[0m \u001b[0;32mor\u001b[0m \u001b[0mapril\u001b[0m \u001b[0;32mor\u001b[0m \u001b[0mmay\u001b[0m\u001b[0;34m:\u001b[0m\u001b[0;34m\u001b[0m\u001b[0;34m\u001b[0m\u001b[0m\n\u001b[1;32m      5\u001b[0m     \u001b[0mprint\u001b[0m\u001b[0;34m(\u001b[0m\u001b[0;34m'spring'\u001b[0m\u001b[0;34m)\u001b[0m\u001b[0;34m\u001b[0m\u001b[0;34m\u001b[0m\u001b[0m\n",
            "\u001b[0;31mNameError\u001b[0m: name 'december' is not defined"
          ]
        }
      ]
    },
    {
      "cell_type": "code",
      "metadata": {
        "id": "aOshHRzASaVI",
        "colab_type": "code",
        "colab": {
          "base_uri": "https://localhost:8080/",
          "height": 54
        },
        "outputId": "d23c2470-c5f1-492d-c5c6-e0ab37613bce"
      },
      "source": [
        "M=int(input('enter month number:'))\n",
        "def findseason (M) : \n",
        "      \n",
        "    # Taken all the possible \n",
        "    # month numbers in the list. \n",
        "    list1 = [[12 , 1 , 2], [3 , 4 , 5],  \n",
        "             [6 , 7 , 8], [9 , 10 , 11]] \n",
        "               \n",
        "    # Matching the month number \n",
        "    # with the above list entries  \n",
        "    if M in list1[0] : \n",
        "        print ( \"WINTER\" ) \n",
        "    elif M in list1[1] : \n",
        "        print ( \"SPRING\" ) \n",
        "    elif M in list1[2] : \n",
        "        print ( \"SUMMER\" ) \n",
        "    elif M in list1[3] : \n",
        "        print ( \"AUTUMN\" ) \n",
        "    else : \n",
        "        print ( \"Invalid Month Number\" ) "
      ],
      "execution_count": 10,
      "outputs": [
        {
          "output_type": "stream",
          "text": [
            "enter month number:3\n"
          ],
          "name": "stdout"
        }
      ]
    },
    {
      "cell_type": "code",
      "metadata": {
        "id": "yyT7mHgkTDI2",
        "colab_type": "code",
        "colab": {
          "base_uri": "https://localhost:8080/",
          "height": 88
        },
        "outputId": "17d59cbe-482e-4ef9-c7ab-c9ab670cd3c3"
      },
      "source": [
        "'bmi'\n",
        "u_wt=int(input('enter your weight in pounds:'))\n",
        "u_ht=int(input('enter your height in inches:'))\n",
        "wt_kg=0.4535*u_wt\n",
        "ht_mt=0.0254*u_ht\n",
        "BMI=wt_kg/(ht_mt)*(ht_mt)\n",
        "BMI\n",
        "if BMI<18.5:\n",
        "    print('under weight')\n",
        "elif 18.5<=BMI<25.0:\n",
        "    print('Normal')\n",
        "elif 25.0<=BMI<30.0:\n",
        "    print('over weight')\n",
        "elif 30.0<=BMI:\n",
        "    print('obesity')"
      ],
      "execution_count": 11,
      "outputs": [
        {
          "output_type": "stream",
          "text": [
            "enter your weight in pounds:56\n",
            "enter your height in inches:34\n",
            "over weight\n"
          ],
          "name": "stdout"
        }
      ]
    },
    {
      "cell_type": "code",
      "metadata": {
        "id": "Adt04HSUTa16",
        "colab_type": "code",
        "colab": {
          "base_uri": "https://localhost:8080/",
          "height": 71
        },
        "outputId": "857edd6c-8749-4f0a-dd95-af4b6ed8ff5e"
      },
      "source": [
        "num=int(input('enter the number between 100 and 1000:'))\n",
        "rem=0\n",
        "sumdigit=0\n",
        "if num>100 and num<=1000:\n",
        "    while num>0:\n",
        "        rem=num%10\n",
        "        sumdigit=sumdigit+rem\n",
        "        num=num//10\n",
        "    print(sumdigit)"
      ],
      "execution_count": 12,
      "outputs": [
        {
          "output_type": "stream",
          "text": [
            "enter the number between 100 and 1000:345\n",
            "12\n"
          ],
          "name": "stdout"
        }
      ]
    },
    {
      "cell_type": "code",
      "metadata": {
        "id": "SaLVoukMT8pE",
        "colab_type": "code",
        "colab": {
          "base_uri": "https://localhost:8080/",
          "height": 105
        },
        "outputId": "d8a73960-b9a8-44df-eed9-14953621e2e0"
      },
      "source": [
        "max=int(input('enter the max value:'))\n",
        "min=int(input('enter the min value'))\n",
        "print('palindrome numbers bbetween %d and %d are:',(min,max))\n",
        "for num in range (min,max+1):\n",
        "    temp=num\n",
        "    rev=0\n",
        "    while temp>0:\n",
        "        rem=temp%10\n",
        "        rev=(rev*10)+rem\n",
        "        temp=temp//10\n",
        "    if num==rev:\n",
        "        print('%d'%num,end=' ')\n"
      ],
      "execution_count": 13,
      "outputs": [
        {
          "output_type": "stream",
          "text": [
            "enter the max value:1000\n",
            "enter the min value1\n",
            "palindrome numbers bbetween %d and %d are: (1, 1000)\n",
            "1 2 3 4 5 6 7 8 9 11 22 33 44 55 66 77 88 99 101 111 121 131 141 151 161 171 181 191 202 212 222 232 242 252 262 272 282 292 303 313 323 333 343 353 363 373 383 393 404 414 424 434 444 454 464 474 484 494 505 515 525 535 545 555 565 575 585 595 606 616 626 636 646 656 666 676 686 696 707 717 727 737 747 757 767 777 787 797 808 818 828 838 848 858 868 878 888 898 909 919 929 939 949 959 969 979 989 999 "
          ],
          "name": "stdout"
        }
      ]
    },
    {
      "cell_type": "code",
      "metadata": {
        "id": "ZUwwKQelUJ1d",
        "colab_type": "code",
        "colab": {
          "base_uri": "https://localhost:8080/",
          "height": 173
        },
        "outputId": "794325ea-21ac-42b5-dea0-1d8af5ffd002"
      },
      "source": [
        "min=int(input('enter lower range:'))\n",
        "max=int(input('enter upper range'))\n",
        "for num in range(min,max+1):\n",
        "    sum=0\n",
        "    temp=num\n",
        "    while temp>0:\n",
        "        digit=temp%10\n",
        "        sum+=digit**3\n",
        "        temp//=10\n",
        "    if num==sum:\n",
        "        print(num)"
      ],
      "execution_count": 17,
      "outputs": [
        {
          "output_type": "stream",
          "text": [
            "enter lower range:0\n",
            "enter upper range999\n",
            "0\n",
            "1\n",
            "153\n",
            "370\n",
            "371\n",
            "407\n"
          ],
          "name": "stdout"
        }
      ]
    },
    {
      "cell_type": "code",
      "metadata": {
        "id": "hjOGBdwBUsrq",
        "colab_type": "code",
        "colab": {
          "base_uri": "https://localhost:8080/",
          "height": 1000
        },
        "outputId": "f7f86fed-3360-4a64-9a20-7f09fa98b25e"
      },
      "source": [
        "for fizzbuzz in range(100):  \n",
        "  \n",
        "    # number divisible by 3, print 'Fizz'  \n",
        "    # in place of the number \n",
        "    if fizzbuzz % 15 == 0:  \n",
        "        print(\"FizzBuzz\")                                          \n",
        "        continue\n",
        "  \n",
        "    # number divisible by 5, print 'Buzz' \n",
        "    # in place of the number \n",
        "    elif fizzbuzz % 3 == 0:      \n",
        "        print(\"Fizz\")                                          \n",
        "        continue\n",
        "  \n",
        "    # number divisible by 15 (divisible  \n",
        "    # by both 3 & 5), print 'FizzBuzz' in \n",
        "    # place of the number \n",
        "    elif fizzbuzz % 5 == 0:          \n",
        "        print(\"Buzz\")                                      \n",
        "        continue\n",
        "  \n",
        "    # print numbers \n",
        "    print(fizzbuzz)"
      ],
      "execution_count": 18,
      "outputs": [
        {
          "output_type": "stream",
          "text": [
            "FizzBuzz\n",
            "1\n",
            "2\n",
            "Fizz\n",
            "4\n",
            "Buzz\n",
            "Fizz\n",
            "7\n",
            "8\n",
            "Fizz\n",
            "Buzz\n",
            "11\n",
            "Fizz\n",
            "13\n",
            "14\n",
            "FizzBuzz\n",
            "16\n",
            "17\n",
            "Fizz\n",
            "19\n",
            "Buzz\n",
            "Fizz\n",
            "22\n",
            "23\n",
            "Fizz\n",
            "Buzz\n",
            "26\n",
            "Fizz\n",
            "28\n",
            "29\n",
            "FizzBuzz\n",
            "31\n",
            "32\n",
            "Fizz\n",
            "34\n",
            "Buzz\n",
            "Fizz\n",
            "37\n",
            "38\n",
            "Fizz\n",
            "Buzz\n",
            "41\n",
            "Fizz\n",
            "43\n",
            "44\n",
            "FizzBuzz\n",
            "46\n",
            "47\n",
            "Fizz\n",
            "49\n",
            "Buzz\n",
            "Fizz\n",
            "52\n",
            "53\n",
            "Fizz\n",
            "Buzz\n",
            "56\n",
            "Fizz\n",
            "58\n",
            "59\n",
            "FizzBuzz\n",
            "61\n",
            "62\n",
            "Fizz\n",
            "64\n",
            "Buzz\n",
            "Fizz\n",
            "67\n",
            "68\n",
            "Fizz\n",
            "Buzz\n",
            "71\n",
            "Fizz\n",
            "73\n",
            "74\n",
            "FizzBuzz\n",
            "76\n",
            "77\n",
            "Fizz\n",
            "79\n",
            "Buzz\n",
            "Fizz\n",
            "82\n",
            "83\n",
            "Fizz\n",
            "Buzz\n",
            "86\n",
            "Fizz\n",
            "88\n",
            "89\n",
            "FizzBuzz\n",
            "91\n",
            "92\n",
            "Fizz\n",
            "94\n",
            "Buzz\n",
            "Fizz\n",
            "97\n",
            "98\n",
            "Fizz\n"
          ],
          "name": "stdout"
        }
      ]
    },
    {
      "cell_type": "code",
      "metadata": {
        "id": "ChF5ypB-VLcD",
        "colab_type": "code",
        "colab": {
          "base_uri": "https://localhost:8080/",
          "height": 105
        },
        "outputId": "52c4af32-7ca8-454d-9660-248863fcb014"
      },
      "source": [
        "h=int(input('enter height of well:'))\n",
        "u=int(input('enter meters he climbs in each step:'))\n",
        "d=int(input('enter meters slips down each step:'))\n",
        "if d>=u and h>u:\n",
        "        print(\"-1\")\n",
        "elif h<=u:\n",
        "    print(\"1\")\n",
        "else:\n",
        "    ans=(h-u)//(u-d)\n",
        "    ans=ans+2\n",
        "print(ans)"
      ],
      "execution_count": 20,
      "outputs": [
        {
          "output_type": "stream",
          "text": [
            "enter height of well:200\n",
            "enter meters he climbs in each step:50\n",
            "enter meters slips down each step:1\n",
            "5\n"
          ],
          "name": "stdout"
        }
      ]
    }
  ]
}